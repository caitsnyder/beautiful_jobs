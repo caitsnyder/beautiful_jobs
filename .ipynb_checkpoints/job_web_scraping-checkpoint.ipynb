{
 "cells": [
  {
   "cell_type": "code",
   "execution_count": 1,
   "metadata": {},
   "outputs": [],
   "source": [
    "import webbrowser\n",
    "import requests\n",
    "import csv\n",
    "from bs4 import BeautifulSoup as bs\n",
    "mercy_corps_site = 'http://jobs.jobvite.com/mercycorps/jobs'\n",
    "# webbrowser.open(site)"
   ]
  },
  {
   "cell_type": "code",
   "execution_count": 2,
   "metadata": {},
   "outputs": [],
   "source": [
    "import re\n",
    "\n",
    "def word_test(text, keyword):\n",
    "    result = re.search(keyword, text, re.IGNORECASE)\n",
    "    if (result):\n",
    "        return True\n",
    "    else:\n",
    "        return False"
   ]
  },
  {
   "cell_type": "code",
   "execution_count": 3,
   "metadata": {},
   "outputs": [],
   "source": [
    "def data_score(post):\n",
    "    # Look at the post page and determine whether it is data-related or not\n",
    "    sub_page = requests.get(post['link'])\n",
    "    sub_soup = bs(sub_page.text, 'html.parser')\n",
    "\n",
    "    text = sub_soup.findAll(\"div\", {\"class\": \"jv-job-detail-description\"})\n",
    "    description = text[0].get_text()\n",
    "\n",
    "    # Now check for data science-related keywords and assign a score\n",
    "    score = 0\n",
    "    if (word_test(description, 'data')):\n",
    "        score += 1\n",
    "    if (word_test(description, 'python')):\n",
    "        score += 1\n",
    "    if (word_test(description, ' r')):\n",
    "        score += 1\n",
    "    if (word_test(description, 'sas')):\n",
    "        score += 1\n",
    "    if (word_test(description, 'spss')):\n",
    "        score += 1\n",
    "    if (word_test(description, 'stata')):\n",
    "        score += 1\n",
    "    if (word_test(description, 'research')):\n",
    "        score += 1\n",
    "    return score\n",
    "    \n",
    "    "
   ]
  },
  {
   "cell_type": "code",
   "execution_count": null,
   "metadata": {},
   "outputs": [],
   "source": [
    "def scrape_jobvite(site, organization):\n",
    "    page = requests.get(site)\n",
    "    soup = bs(page.text, 'html.parser')\n",
    "\n",
    "    posts = []\n",
    "    \n",
    "    for row in soup.find_all('tr'):\n",
    "\n",
    "        # Isolate the link\n",
    "        ending = row.findAll('a')[0].get('href')\n",
    "        # NEED TO CHANGE THIS WITH REGEX TO MAKE IT WORK WITH OTHER ORGS\n",
    "        if ending[0:16] == '/mercycorps/job/':\n",
    "            \n",
    "            # Create the post dictionary\n",
    "            post_data = {}\n",
    "            post_data['organization'] = organization\n",
    "            \n",
    "            # Add the job link to the dictionary\n",
    "            link = 'https://jobs.jobvite.com' + ending\n",
    "            post_data['link'] = link\n",
    "\n",
    "            # Add the job name\n",
    "            title_element = row.findAll(\"td\", {\"class\": \"jv-job-list-name\"})\n",
    "            title = title_element[0].get_text().strip()\n",
    "            post_data['title'] = title\n",
    "\n",
    "            # Add the job location\n",
    "            location_element = row.findAll(\"td\", {\"class\": \"jv-job-list-location\"})\n",
    "            location = location_element[0].get_text().strip()\n",
    "            post_data['location'] = location\n",
    "        \n",
    "            # Add the current post to the global posts array\n",
    "            posts.append(post_data)\n",
    "            \n",
    "            data_posts = []\n",
    "            \n",
    "            for post in posts:\n",
    "                post['data_score'] = data_score(post)\n",
    "                if post['data_score'] > 3:\n",
    "                    data_posts.append(post)\n",
    "            \n",
    "    print(data_posts)"
   ]
  },
  {
   "cell_type": "code",
   "execution_count": null,
   "metadata": {},
   "outputs": [],
   "source": [
    "# scrape_jobvite(site, organization)\n",
    "scrape_jobvite(mercy_corps_site, 'Mercy Corps')"
   ]
  }
 ],
 "metadata": {
  "kernelspec": {
   "display_name": "Python 3",
   "language": "python",
   "name": "python3"
  }
 },
 "nbformat": 4,
 "nbformat_minor": 2
}
